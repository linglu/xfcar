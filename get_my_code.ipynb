{
 "cells": [
  {
   "cell_type": "markdown",
   "metadata": {},
   "source": [
    "1、Activity\n",
    "\n",
    "    1.1 list\n",
    "    1.2 detail\n",
    "    \n",
    "2、xml\n"
   ]
  },
  {
   "cell_type": "code",
   "execution_count": 42,
   "metadata": {},
   "outputs": [],
   "source": [
    "# names = [\"我的钱包\", \"我的积分\", \"我的消息\", \"权限设置\"]\n",
    "# actvt = ['MyWallet', \"MyScore\", \"MyMessage\", \"Setting\"]\n",
    "\n",
    "# names = [\"帐号与安全\",\"紧急联系人\",\"联系我们\",\"关于旋风卫士\"]\n",
    "# actvt = ['Account', \"Emergency\", \"ContactUs\", \"About\"]\n",
    "\n",
    "# names = [\"余额\", \"收款\", \"查询\", \"转单提成\", \"推荐奖励\"]\n",
    "# actvt = ['Balance', \"Receipt\", \"SearchInfo\", \"DedutPercent\", \"ShareReward\"]\n",
    "\n",
    "# names = ['预约短途出租', \"转给附近司机\"]\n",
    "# actvt = ['SbscrbShort', \"SendOthers\"]\n",
    "\n",
    "names = [\"购车租车\", \"车辆返租\", \"租金充值\", \"邀请好友\", \"一键报警\"]\n",
    "actvt = [\"BuyOrRentCar\", \"CarReRent\", \"Recharge\", \"Invite\", \"OneKeyAlarm\"]"
   ]
  },
  {
   "cell_type": "code",
   "execution_count": 43,
   "metadata": {},
   "outputs": [],
   "source": [
    "act_list_template = \"\"\"package com.xfcar.driver.view;\n",
    "\n",
    "import android.os.Bundle;\n",
    "import android.view.View;\n",
    "\n",
    "import com.xfcar.driver.R;\n",
    "import com.xfcar.driver.mvp.BaseActivity;\n",
    "import com.xfcar.driver.network.Requester;\n",
    "import com.xfcar.driver.utils.DataManager;\n",
    "\n",
    "public class {}Activity extends BaseActivity implements View.OnClickListener {{\n",
    "\n",
    "    private Requester mRequester = new Requester();\n",
    "    private DataManager mDataManager;\n",
    "\n",
    "    @Override\n",
    "    protected void onCreate(Bundle savedInstanceState) {{\n",
    "        super.onCreate(savedInstanceState);\n",
    "        setContentView(R.layout.activity{});\n",
    "        initView();\n",
    "    }}\n",
    "\n",
    "    private void initView() {{\n",
    "        findViewById(R.id.rl_return_back).setOnClickListener(this);\n",
    "    }}\n",
    "\n",
    "    @Override\n",
    "    public void onClick(View v) {{\n",
    "        int id = v.getId();\n",
    "        if (id == R.id.rl_return_back) {{\n",
    "            finish();\n",
    "        }}\n",
    "    }}\n",
    "}}\"\"\"\n",
    "xml_list_template = \"\"\"<?xml version=\"1.0\" encoding=\"utf-8\"?>\n",
    "<LinearLayout\n",
    "    xmlns:android=\"http://schemas.android.com/apk/res/android\"\n",
    "    android:layout_width=\"match_parent\"\n",
    "    android:layout_height=\"match_parent\"\n",
    "    android:orientation=\"vertical\"\n",
    ">\n",
    "\n",
    "    <RelativeLayout\n",
    "        android:layout_width=\"match_parent\"\n",
    "        android:layout_height=\"@dimen/space60\"\n",
    "    >\n",
    "\n",
    "        <RelativeLayout\n",
    "            android:id=\"@+id/rl_return_back\"\n",
    "            android:layout_width=\"wrap_content\"\n",
    "            android:layout_height=\"match_parent\"\n",
    "            android:paddingRight=\"@dimen/space20\"\n",
    "        >\n",
    "\n",
    "            <ImageView\n",
    "                android:layout_width=\"wrap_content\"\n",
    "                android:layout_height=\"wrap_content\"\n",
    "                android:layout_centerVertical=\"true\"\n",
    "                android:layout_marginLeft=\"@dimen/space20\"\n",
    "                android:src=\"@mipmap/ic_return_back\"\n",
    "            />\n",
    "\n",
    "        </RelativeLayout>\n",
    "\n",
    "        <TextView\n",
    "            android:id=\"@+id/tv_title\"\n",
    "            android:layout_width=\"wrap_content\"\n",
    "            android:layout_height=\"wrap_content\"\n",
    "            android:layout_centerInParent=\"true\"\n",
    "            android:text=\"{}\"\n",
    "            android:textColor=\"@color/black\"\n",
    "            android:textSize=\"@dimen/font16\"\n",
    "        />\n",
    "\n",
    "    </RelativeLayout>\n",
    "    \n",
    "    <View\n",
    "        android:layout_width=\"match_parent\"\n",
    "        android:layout_height=\"@dimen/space1\"\n",
    "        android:background=\"@color/gray\"\n",
    "    />\n",
    "\n",
    "    <android.support.v7.widget.RecyclerView\n",
    "        android:id=\"@+id/rv_car_function\"\n",
    "        android:layout_width=\"match_parent\"\n",
    "        android:layout_height=\"0dp\"\n",
    "        android:layout_weight=\"1.0\"\n",
    "        android:layout_marginLeft=\"@dimen/space15\"\n",
    "        android:layout_marginRight=\"@dimen/space15\"\n",
    "    />\n",
    "\n",
    "</LinearLayout>\"\"\"\n",
    "\n",
    "manifest_template = \"\"\"\n",
    "<activity\n",
    "            android:name=\".view.{}Activity\"\n",
    "            android:screenOrientation=\"portrait\"\n",
    "        />\n",
    "\"\"\"\n"
   ]
  },
  {
   "cell_type": "code",
   "execution_count": 44,
   "metadata": {},
   "outputs": [],
   "source": [
    "def get_xml_name(actvt):\n",
    "    return \"\".join([\"_\" + i.lower() if i.isupper() else i for i in actvt])"
   ]
  },
  {
   "cell_type": "code",
   "execution_count": 45,
   "metadata": {},
   "outputs": [],
   "source": [
    "for i in range(len(names)):\n",
    "    file_name = \"./app/src/main/java/com/xfcar/driver/view/\" + actvt[i] + \"Activity.java\"\n",
    "    with open(file_name, \"w\") as f:\n",
    "        f.write(act_list_template.format(actvt[i], get_xml_name(actvt[i])))"
   ]
  },
  {
   "cell_type": "code",
   "execution_count": 46,
   "metadata": {},
   "outputs": [],
   "source": [
    "for i in range(len(names)):\n",
    "    xml_file_name = \"activity\" + get_xml_name(actvt[i]) + \".xml\"\n",
    "    with open(\"./app/src/main/res/layout/{}\".format(xml_file_name), \"w\") as f:\n",
    "        f.write(xml_list_template.format(names[i]))"
   ]
  },
  {
   "cell_type": "code",
   "execution_count": 47,
   "metadata": {},
   "outputs": [
    {
     "name": "stdout",
     "output_type": "stream",
     "text": [
      "\n",
      "<activity\n",
      "            android:name=\".view.BuyOrRentCarActivity\"\n",
      "            android:screenOrientation=\"portrait\"\n",
      "        />\n",
      "\n",
      "\n",
      "<activity\n",
      "            android:name=\".view.CarReRentActivity\"\n",
      "            android:screenOrientation=\"portrait\"\n",
      "        />\n",
      "\n",
      "\n",
      "<activity\n",
      "            android:name=\".view.RechargeActivity\"\n",
      "            android:screenOrientation=\"portrait\"\n",
      "        />\n",
      "\n",
      "\n",
      "<activity\n",
      "            android:name=\".view.InviteActivity\"\n",
      "            android:screenOrientation=\"portrait\"\n",
      "        />\n",
      "\n",
      "\n",
      "<activity\n",
      "            android:name=\".view.OneKeyAlarmActivity\"\n",
      "            android:screenOrientation=\"portrait\"\n",
      "        />\n",
      "\n"
     ]
    }
   ],
   "source": [
    "for act in actvt:\n",
    "    print(manifest_template.format(act))"
   ]
  },
  {
   "cell_type": "code",
   "execution_count": 48,
   "metadata": {},
   "outputs": [
    {
     "name": "stdout",
     "output_type": "stream",
     "text": [
      "} else if (appBean.name.equals(\"购车租车\")) {\n",
      "startActivity(BuyOrRentCarActivity.class);\n",
      "} else if (appBean.name.equals(\"车辆返租\")) {\n",
      "startActivity(CarReRentActivity.class);\n",
      "} else if (appBean.name.equals(\"租金充值\")) {\n",
      "startActivity(RechargeActivity.class);\n",
      "} else if (appBean.name.equals(\"邀请好友\")) {\n",
      "startActivity(InviteActivity.class);\n",
      "} else if (appBean.name.equals(\"一键报警\")) {\n",
      "startActivity(OneKeyAlarmActivity.class);\n",
      "}\n"
     ]
    }
   ],
   "source": [
    "for i in range(len(names)):\n",
    "    print('}} else if (appBean.name.equals(\"{}\")) {{'.format(names[i]))\n",
    "    print('startActivity({}Activity.class);'.format(actvt[i]))\n",
    "print(\"}\")"
   ]
  },
  {
   "cell_type": "code",
   "execution_count": null,
   "metadata": {},
   "outputs": [],
   "source": []
  },
  {
   "cell_type": "code",
   "execution_count": null,
   "metadata": {},
   "outputs": [],
   "source": []
  }
 ],
 "metadata": {
  "kernelspec": {
   "display_name": "Python 3",
   "language": "python",
   "name": "python3"
  },
  "language_info": {
   "codemirror_mode": {
    "name": "ipython",
    "version": 3
   },
   "file_extension": ".py",
   "mimetype": "text/x-python",
   "name": "python",
   "nbconvert_exporter": "python",
   "pygments_lexer": "ipython3",
   "version": "3.7.3"
  }
 },
 "nbformat": 4,
 "nbformat_minor": 2
}
