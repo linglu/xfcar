{
 "cells": [
  {
   "cell_type": "code",
   "execution_count": 4,
   "metadata": {},
   "outputs": [],
   "source": [
    "import re"
   ]
  },
  {
   "cell_type": "code",
   "execution_count": 5,
   "metadata": {},
   "outputs": [],
   "source": [
    "# file = \"./app/src/main/res/layout/activity_sbscrb_short.xml\"\n",
    "file = \"./app/src/main/res/layout/activity_invite.xml\""
   ]
  },
  {
   "cell_type": "code",
   "execution_count": 6,
   "metadata": {},
   "outputs": [],
   "source": [
    "with open(file) as f:\n",
    "    content = f.read()"
   ]
  },
  {
   "cell_type": "code",
   "execution_count": 7,
   "metadata": {},
   "outputs": [],
   "source": [
    "pattern = re.compile(\"android:id=\\\"@\\+id/(.*)\\\"\\n\")"
   ]
  },
  {
   "cell_type": "code",
   "execution_count": 8,
   "metadata": {},
   "outputs": [
    {
     "name": "stdout",
     "output_type": "stream",
     "text": [
      "private EditText mEtReturnBack;\n",
      "private TextView mTvTitle;\n",
      "private EditText mEtInviteName;\n",
      "private TextView mTvNumber;\n",
      "private EditText mEtInvitedName;\n",
      "private EditText mEtInvitedMobile;\n",
      "private Button mBtnSubmit;\n"
     ]
    }
   ],
   "source": [
    "for vid in re.findall(pattern, content):\n",
    "    if \"tv\" in vid:\n",
    "        print(\"private TextView mTv{};\".format(\"\".join([c.capitalize() for c in vid.split(\"_\")[1:]])))\n",
    "    elif \"iv\" in vid:\n",
    "        print(\"private ImageView mIv{};\".format(\"\".join([c.capitalize() for c in vid.split(\"_\")[1:]])))\n",
    "    elif \"et\" in vid:\n",
    "        print(\"private EditText mEt{};\".format(\"\".join([c.capitalize() for c in vid.split(\"_\")[1:]])))\n",
    "    elif \"btn\" in vid:\n",
    "        print(\"private Button mBtn{};\".format(\"\".join([c.capitalize() for c in vid.split(\"_\")[1:]])))"
   ]
  },
  {
   "cell_type": "code",
   "execution_count": 19,
   "metadata": {},
   "outputs": [
    {
     "name": "stdout",
     "output_type": "stream",
     "text": [
      "mEtReturnBack = findViewById(R.id.rl_return_back);\n",
      "mTvTitle = findViewById(R.id.tv_title);\n",
      "mEtInviteName = findViewById(R.id.et_invite_name);\n",
      "mTvNumber = findViewById(R.id.tv_number);\n",
      "mEtInvitedName = findViewById(R.id.et_invited_name);\n",
      "mEtInvitedMobile = findViewById(R.id.et_invited_mobile);\n",
      "mBtnSubmit = findViewById(R.id.btn_submit);\n"
     ]
    }
   ],
   "source": [
    "for vid in re.findall(pattern, content):\n",
    "    if \"tv\" in vid:\n",
    "        print(\"mTv{} = findViewById(R.id.{});\".format(\"\".join([c.capitalize() for c in vid.split(\"_\")[1:]]), vid))\n",
    "    elif \"iv\" in vid:\n",
    "        print(\"mIv{} = findViewById(R.id.{});\".format(\"\".join([c.capitalize() for c in vid.split(\"_\")[1:]]), vid))\n",
    "    elif \"et\" in vid:\n",
    "        print(\"mEt{} = findViewById(R.id.{});\".format(\"\".join([c.capitalize() for c in vid.split(\"_\")[1:]]), vid))\n",
    "    elif \"btn\" in vid:\n",
    "        print(\"mBtn{} = findViewById(R.id.{});\".format(\"\".join([c.capitalize() for c in vid.split(\"_\")[1:]]), vid))"
   ]
  },
  {
   "cell_type": "code",
   "execution_count": 20,
   "metadata": {},
   "outputs": [
    {
     "name": "stdout",
     "output_type": "stream",
     "text": [
      "} else if (id == R.id.tv_title) {\n",
      "} else if (id == R.id.tv_number) {\n",
      "} else if (id == R.id.btn_submit) {\n",
      "}\n"
     ]
    }
   ],
   "source": [
    "for vid in re.findall(pattern, content):\n",
    "    if \"et\" in vid or \"iv\" in vid:\n",
    "        continue\n",
    "        \n",
    "    print(\"}} else if (id == R.id.{}) {{\".format(vid))\n",
    "print(\"}\")"
   ]
  },
  {
   "cell_type": "code",
   "execution_count": null,
   "metadata": {},
   "outputs": [],
   "source": []
  }
 ],
 "metadata": {
  "kernelspec": {
   "display_name": "Python 3",
   "language": "python",
   "name": "python3"
  },
  "language_info": {
   "codemirror_mode": {
    "name": "ipython",
    "version": 3
   },
   "file_extension": ".py",
   "mimetype": "text/x-python",
   "name": "python",
   "nbconvert_exporter": "python",
   "pygments_lexer": "ipython3",
   "version": "3.7.3"
  }
 },
 "nbformat": 4,
 "nbformat_minor": 2
}
