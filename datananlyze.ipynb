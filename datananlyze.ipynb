{
 "cells": [
  {
   "cell_type": "code",
   "execution_count": 1,
   "metadata": {},
   "outputs": [],
   "source": [
    "import pandas as pd\n",
    "import json"
   ]
  },
  {
   "cell_type": "code",
   "execution_count": 2,
   "metadata": {},
   "outputs": [],
   "source": [
    "# name = \"lipei.json\"\n",
    "# name = \"carinfo.json\"\n",
    "# name = \"carlist.json\"\n",
    "name = \"car.json\""
   ]
  },
  {
   "cell_type": "code",
   "execution_count": 13,
   "metadata": {},
   "outputs": [],
   "source": [
    "with open(name, 'r') as f:\n",
    "    info = json.loads(f.read())"
   ]
  },
  {
   "cell_type": "code",
   "execution_count": 14,
   "metadata": {},
   "outputs": [
    {
     "data": {
      "text/plain": [
       "{'code': 1,\n",
       " 'msg': 'success',\n",
       " 'data': {'engineNo': 'aaa', 'mobile': '18924238534', 'carInfo': '粤A88888'}}"
      ]
     },
     "execution_count": 14,
     "metadata": {},
     "output_type": "execute_result"
    }
   ],
   "source": [
    "info"
   ]
  },
  {
   "cell_type": "code",
   "execution_count": 16,
   "metadata": {},
   "outputs": [],
   "source": [
    "df = pd.DataFrame([info['data']])"
   ]
  },
  {
   "cell_type": "code",
   "execution_count": 18,
   "metadata": {},
   "outputs": [
    {
     "name": "stdout",
     "output_type": "stream",
     "text": [
      "public String engineNo;\n",
      "public String mobile;\n",
      "public String carInfo;\n"
     ]
    }
   ],
   "source": [
    "for col in df.columns:\n",
    "    print(\"public String {};\".format(col))"
   ]
  },
  {
   "cell_type": "code",
   "execution_count": 43,
   "metadata": {},
   "outputs": [],
   "source": [
    "a = \"\"\"<TextView\n",
    "        android:id=\"@+id/tv_{}\"\n",
    "        android:layout_width=\"wrap_content\"\n",
    "        android:layout_height=\"wrap_content\"\n",
    "        android:text=\"{}\"\n",
    "    />\n",
    "    \"\"\""
   ]
  },
  {
   "cell_type": "code",
   "execution_count": 21,
   "metadata": {},
   "outputs": [],
   "source": [
    "def get_xml_name(actvt):\n",
    "    return \"\".join([\"_\" + i.lower() if i.isupper() else i for i in actvt])"
   ]
  },
  {
   "cell_type": "code",
   "execution_count": null,
   "metadata": {},
   "outputs": [],
   "source": [
    "def get_xml_name(actvt):\n",
    "    return \"\".join([\"_\" + i.lower() if i.isupper() else i for i in actvt])"
   ]
  },
  {
   "cell_type": "code",
   "execution_count": 41,
   "metadata": {},
   "outputs": [],
   "source": [
    "b = \"\"\"tv_{} = itemView.findViewById(R.id.tv_{});\"\"\"\n",
    "c = \"\"\"TextView tv_{};\"\"\"\n",
    "d = \"\"\"holder.{}.setText(cpb.{});\"\"\""
   ]
  },
  {
   "cell_type": "code",
   "execution_count": 42,
   "metadata": {},
   "outputs": [
    {
     "name": "stdout",
     "output_type": "stream",
     "text": [
      "holder.id.setText(cpb.id);\n",
      "holder.user_id.setText(cpb.userId);\n",
      "holder.user_name.setText(cpb.userName);\n",
      "holder.id_card_number.setText(cpb.idCardNumber);\n",
      "holder.car_no.setText(cpb.carNo);\n",
      "holder.amount.setText(cpb.amount);\n",
      "holder.accident_time.setText(cpb.accidentTime);\n",
      "holder.accident_location.setText(cpb.accidentLocation);\n",
      "holder.repair_location.setText(cpb.repairLocation);\n",
      "holder.repair_days.setText(cpb.repairDays);\n",
      "holder.del_flag.setText(cpb.delFlag);\n",
      "holder.create_by.setText(cpb.createBy);\n",
      "holder.create_date.setText(cpb.createDate);\n",
      "holder.update_by.setText(cpb.updateBy);\n",
      "holder.update_date.setText(cpb.updateDate);\n"
     ]
    }
   ],
   "source": [
    "for col in df.columns:\n",
    "    print(d.format(get_xml_name(col), col))"
   ]
  },
  {
   "cell_type": "code",
   "execution_count": 35,
   "metadata": {},
   "outputs": [
    {
     "name": "stdout",
     "output_type": "stream",
     "text": [
      "TextView tv_id;\n",
      "TextView tv_user_id;\n",
      "TextView tv_user_name;\n",
      "TextView tv_id_card_number;\n",
      "TextView tv_car_no;\n",
      "TextView tv_amount;\n",
      "TextView tv_accident_time;\n",
      "TextView tv_accident_location;\n",
      "TextView tv_repair_location;\n",
      "TextView tv_repair_days;\n",
      "TextView tv_del_flag;\n",
      "TextView tv_create_by;\n",
      "TextView tv_create_date;\n",
      "TextView tv_update_by;\n",
      "TextView tv_update_date;\n"
     ]
    }
   ],
   "source": [
    "for col in df.columns:\n",
    "    print(c.format(get_xml_name(col)))"
   ]
  },
  {
   "cell_type": "code",
   "execution_count": 31,
   "metadata": {},
   "outputs": [
    {
     "name": "stdout",
     "output_type": "stream",
     "text": [
      "tv_id = itemView.findViewById(R.id.tv_id);\n",
      "tv_user_id = itemView.findViewById(R.id.tv_user_id);\n",
      "tv_user_name = itemView.findViewById(R.id.tv_user_name);\n",
      "tv_id_card_number = itemView.findViewById(R.id.tv_id_card_number);\n",
      "tv_car_no = itemView.findViewById(R.id.tv_car_no);\n",
      "tv_amount = itemView.findViewById(R.id.tv_amount);\n",
      "tv_accident_time = itemView.findViewById(R.id.tv_accident_time);\n",
      "tv_accident_location = itemView.findViewById(R.id.tv_accident_location);\n",
      "tv_repair_location = itemView.findViewById(R.id.tv_repair_location);\n",
      "tv_repair_days = itemView.findViewById(R.id.tv_repair_days);\n",
      "tv_del_flag = itemView.findViewById(R.id.tv_del_flag);\n",
      "tv_create_by = itemView.findViewById(R.id.tv_create_by);\n",
      "tv_create_date = itemView.findViewById(R.id.tv_create_date);\n",
      "tv_update_by = itemView.findViewById(R.id.tv_update_by);\n",
      "tv_update_date = itemView.findViewById(R.id.tv_update_date);\n"
     ]
    }
   ],
   "source": [
    "for col in df.columns:\n",
    "    print(b.format(get_xml_name(col), get_xml_name(col)))"
   ]
  },
  {
   "cell_type": "code",
   "execution_count": 85,
   "metadata": {},
   "outputs": [],
   "source": [
    "    a = \"\"\"mTv{}.setText(String.format(\"{}: %s\", mCarInfoBean.{}));\"\"\""
   ]
  },
  {
   "cell_type": "code",
   "execution_count": 86,
   "metadata": {},
   "outputs": [
    {
     "name": "stdout",
     "output_type": "stream",
     "text": [
      "mTvId.setText(String.format(\"id: %s\", mCarInfoBean.id));\n",
      "mTvCarno.setText(String.format(\"carNo: %s\", mCarInfoBean.carNo));\n",
      "mTvEngineno.setText(String.format(\"engineNo: %s\", mCarInfoBean.engineNo));\n",
      "mTvBrand.setText(String.format(\"brand: %s\", mCarInfoBean.brand));\n",
      "mTvModelno.setText(String.format(\"modelNo: %s\", mCarInfoBean.modelNo));\n",
      "mTvStatus.setText(String.format(\"status: %s\", mCarInfoBean.status));\n",
      "mTvType.setText(String.format(\"type: %s\", mCarInfoBean.type));\n",
      "mTvUsername.setText(String.format(\"username: %s\", mCarInfoBean.username));\n",
      "mTvUserid.setText(String.format(\"userId: %s\", mCarInfoBean.userId));\n",
      "mTvCompany.setText(String.format(\"company: %s\", mCarInfoBean.company));\n",
      "mTvMacid.setText(String.format(\"macid: %s\", mCarInfoBean.macid));\n",
      "mTvObjectid.setText(String.format(\"objectid: %s\", mCarInfoBean.objectid));\n",
      "mTvDelflag.setText(String.format(\"delFlag: %s\", mCarInfoBean.delFlag));\n",
      "mTvCreateby.setText(String.format(\"createBy: %s\", mCarInfoBean.createBy));\n",
      "mTvCreatedate.setText(String.format(\"createDate: %s\", mCarInfoBean.createDate));\n",
      "mTvUpdateby.setText(String.format(\"updateBy: %s\", mCarInfoBean.updateBy));\n",
      "mTvUpdatedate.setText(String.format(\"updateDate: %s\", mCarInfoBean.updateDate));\n"
     ]
    }
   ],
   "source": [
    "for col in df.columns:\n",
    "    print(a.format(col.capitalize(), col, col))"
   ]
  },
  {
   "cell_type": "code",
   "execution_count": 83,
   "metadata": {},
   "outputs": [],
   "source": [
    "a = \"\"\"mTv{} = findViewById(R.id.tv_{});\"\"\""
   ]
  },
  {
   "cell_type": "code",
   "execution_count": 84,
   "metadata": {},
   "outputs": [
    {
     "name": "stdout",
     "output_type": "stream",
     "text": [
      "mTvId = findViewById(R.id.tv_id);\n",
      "mTvCarno = findViewById(R.id.tv_car_no);\n",
      "mTvEngineno = findViewById(R.id.tv_engine_no);\n",
      "mTvBrand = findViewById(R.id.tv_brand);\n",
      "mTvModelno = findViewById(R.id.tv_model_no);\n",
      "mTvStatus = findViewById(R.id.tv_status);\n",
      "mTvType = findViewById(R.id.tv_type);\n",
      "mTvUsername = findViewById(R.id.tv_username);\n",
      "mTvUserid = findViewById(R.id.tv_user_id);\n",
      "mTvCompany = findViewById(R.id.tv_company);\n",
      "mTvMacid = findViewById(R.id.tv_macid);\n",
      "mTvObjectid = findViewById(R.id.tv_objectid);\n",
      "mTvDelflag = findViewById(R.id.tv_del_flag);\n",
      "mTvCreateby = findViewById(R.id.tv_create_by);\n",
      "mTvCreatedate = findViewById(R.id.tv_create_date);\n",
      "mTvUpdateby = findViewById(R.id.tv_update_by);\n",
      "mTvUpdatedate = findViewById(R.id.tv_update_date);\n"
     ]
    }
   ],
   "source": [
    "for col in df.columns:\n",
    "    print(a.format(col.capitalize(), get_xml_name(col)))"
   ]
  },
  {
   "cell_type": "code",
   "execution_count": 81,
   "metadata": {},
   "outputs": [],
   "source": [
    "a = \"\"\"private TextView mTv{};\"\"\""
   ]
  },
  {
   "cell_type": "code",
   "execution_count": 82,
   "metadata": {},
   "outputs": [
    {
     "name": "stdout",
     "output_type": "stream",
     "text": [
      "private TextView mTvId;\n",
      "private TextView mTvCarno;\n",
      "private TextView mTvEngineno;\n",
      "private TextView mTvBrand;\n",
      "private TextView mTvModelno;\n",
      "private TextView mTvStatus;\n",
      "private TextView mTvType;\n",
      "private TextView mTvUsername;\n",
      "private TextView mTvUserid;\n",
      "private TextView mTvCompany;\n",
      "private TextView mTvMacid;\n",
      "private TextView mTvObjectid;\n",
      "private TextView mTvDelflag;\n",
      "private TextView mTvCreateby;\n",
      "private TextView mTvCreatedate;\n",
      "private TextView mTvUpdateby;\n",
      "private TextView mTvUpdatedate;\n"
     ]
    }
   ],
   "source": [
    "for col in df.columns:\n",
    "    print(a.format(col.capitalize()))"
   ]
  },
  {
   "cell_type": "code",
   "execution_count": 87,
   "metadata": {},
   "outputs": [],
   "source": [
    "a = \"\"\"<TextView\n",
    "        android:id=\"@+id/tv_{}\"\n",
    "        android:layout_width=\"wrap_content\"\n",
    "        android:layout_height=\"wrap_content\"\n",
    "        android:text=\"{}: %s\"\n",
    "    />\n",
    "    \"\"\""
   ]
  },
  {
   "cell_type": "code",
   "execution_count": 88,
   "metadata": {},
   "outputs": [
    {
     "name": "stdout",
     "output_type": "stream",
     "text": [
      "<TextView\n",
      "        android:id=\"@+id/tv_id\"\n",
      "        android:layout_width=\"wrap_content\"\n",
      "        android:layout_height=\"wrap_content\"\n",
      "        android:text=\"id: %s\"\n",
      "    />\n",
      "    \n",
      "<TextView\n",
      "        android:id=\"@+id/tv_car_no\"\n",
      "        android:layout_width=\"wrap_content\"\n",
      "        android:layout_height=\"wrap_content\"\n",
      "        android:text=\"carNo: %s\"\n",
      "    />\n",
      "    \n",
      "<TextView\n",
      "        android:id=\"@+id/tv_engine_no\"\n",
      "        android:layout_width=\"wrap_content\"\n",
      "        android:layout_height=\"wrap_content\"\n",
      "        android:text=\"engineNo: %s\"\n",
      "    />\n",
      "    \n",
      "<TextView\n",
      "        android:id=\"@+id/tv_brand\"\n",
      "        android:layout_width=\"wrap_content\"\n",
      "        android:layout_height=\"wrap_content\"\n",
      "        android:text=\"brand: %s\"\n",
      "    />\n",
      "    \n",
      "<TextView\n",
      "        android:id=\"@+id/tv_model_no\"\n",
      "        android:layout_width=\"wrap_content\"\n",
      "        android:layout_height=\"wrap_content\"\n",
      "        android:text=\"modelNo: %s\"\n",
      "    />\n",
      "    \n",
      "<TextView\n",
      "        android:id=\"@+id/tv_status\"\n",
      "        android:layout_width=\"wrap_content\"\n",
      "        android:layout_height=\"wrap_content\"\n",
      "        android:text=\"status: %s\"\n",
      "    />\n",
      "    \n",
      "<TextView\n",
      "        android:id=\"@+id/tv_type\"\n",
      "        android:layout_width=\"wrap_content\"\n",
      "        android:layout_height=\"wrap_content\"\n",
      "        android:text=\"type: %s\"\n",
      "    />\n",
      "    \n",
      "<TextView\n",
      "        android:id=\"@+id/tv_username\"\n",
      "        android:layout_width=\"wrap_content\"\n",
      "        android:layout_height=\"wrap_content\"\n",
      "        android:text=\"username: %s\"\n",
      "    />\n",
      "    \n",
      "<TextView\n",
      "        android:id=\"@+id/tv_user_id\"\n",
      "        android:layout_width=\"wrap_content\"\n",
      "        android:layout_height=\"wrap_content\"\n",
      "        android:text=\"userId: %s\"\n",
      "    />\n",
      "    \n",
      "<TextView\n",
      "        android:id=\"@+id/tv_company\"\n",
      "        android:layout_width=\"wrap_content\"\n",
      "        android:layout_height=\"wrap_content\"\n",
      "        android:text=\"company: %s\"\n",
      "    />\n",
      "    \n",
      "<TextView\n",
      "        android:id=\"@+id/tv_macid\"\n",
      "        android:layout_width=\"wrap_content\"\n",
      "        android:layout_height=\"wrap_content\"\n",
      "        android:text=\"macid: %s\"\n",
      "    />\n",
      "    \n",
      "<TextView\n",
      "        android:id=\"@+id/tv_objectid\"\n",
      "        android:layout_width=\"wrap_content\"\n",
      "        android:layout_height=\"wrap_content\"\n",
      "        android:text=\"objectid: %s\"\n",
      "    />\n",
      "    \n",
      "<TextView\n",
      "        android:id=\"@+id/tv_del_flag\"\n",
      "        android:layout_width=\"wrap_content\"\n",
      "        android:layout_height=\"wrap_content\"\n",
      "        android:text=\"delFlag: %s\"\n",
      "    />\n",
      "    \n",
      "<TextView\n",
      "        android:id=\"@+id/tv_create_by\"\n",
      "        android:layout_width=\"wrap_content\"\n",
      "        android:layout_height=\"wrap_content\"\n",
      "        android:text=\"createBy: %s\"\n",
      "    />\n",
      "    \n",
      "<TextView\n",
      "        android:id=\"@+id/tv_create_date\"\n",
      "        android:layout_width=\"wrap_content\"\n",
      "        android:layout_height=\"wrap_content\"\n",
      "        android:text=\"createDate: %s\"\n",
      "    />\n",
      "    \n",
      "<TextView\n",
      "        android:id=\"@+id/tv_update_by\"\n",
      "        android:layout_width=\"wrap_content\"\n",
      "        android:layout_height=\"wrap_content\"\n",
      "        android:text=\"updateBy: %s\"\n",
      "    />\n",
      "    \n",
      "<TextView\n",
      "        android:id=\"@+id/tv_update_date\"\n",
      "        android:layout_width=\"wrap_content\"\n",
      "        android:layout_height=\"wrap_content\"\n",
      "        android:text=\"updateDate: %s\"\n",
      "    />\n",
      "    \n"
     ]
    }
   ],
   "source": [
    "for col in df.columns:\n",
    "    print(a.format(get_xml_name(col), col))"
   ]
  },
  {
   "cell_type": "code",
   "execution_count": 89,
   "metadata": {},
   "outputs": [],
   "source": [
    "a = '// \"SN_FINDCAR\"//寻车;\"SN_OPENTRUNK\"//座位锁;\"SN_STALLING\"//断电;\"SN_IGNITION\"//上电;\"SN_SAFEON\"//车门上锁;\"SN_SAFEOFF\"//车门解锁;'"
   ]
  },
  {
   "cell_type": "code",
   "execution_count": 90,
   "metadata": {},
   "outputs": [
    {
     "data": {
      "text/plain": [
       "'// \"SN_FINDCAR\"//寻车;\"SN_OPENTRUNK\"//座位锁;\"SN_STALLING\"//断电;\"SN_IGNITION\"//上电;\"SN_SAFEON\"//车门上锁;\"SN_SAFEOFF\"//车门解锁;'"
      ]
     },
     "execution_count": 90,
     "metadata": {},
     "output_type": "execute_result"
    }
   ],
   "source": [
    "a"
   ]
  },
  {
   "cell_type": "code",
   "execution_count": 102,
   "metadata": {},
   "outputs": [
    {
     "data": {
      "text/plain": [
       "['// \"SN_FINDCAR\"//寻车',\n",
       " '\"SN_OPENTRUNK\"//座位锁',\n",
       " '\"SN_STALLING\"//断电',\n",
       " '\"SN_IGNITION\"//上电',\n",
       " '\"SN_SAFEON\"//车门上锁',\n",
       " '\"SN_SAFEOFF\"//车门解锁',\n",
       " '']"
      ]
     },
     "execution_count": 102,
     "metadata": {},
     "output_type": "execute_result"
    }
   ],
   "source": []
  },
  {
   "cell_type": "code",
   "execution_count": 110,
   "metadata": {},
   "outputs": [],
   "source": [
    "template = 'public static final String {} = {};'"
   ]
  },
  {
   "cell_type": "code",
   "execution_count": 112,
   "metadata": {},
   "outputs": [
    {
     "name": "stdout",
     "output_type": "stream",
     "text": [
      "public static final String SN_FINDCAR = // \"SN_FINDCAR\"//寻车;\n",
      "public static final String SN_OPENTRUNK = \"SN_OPENTRUNK\"//座位锁;\n",
      "public static final String SN_STALLING = \"SN_STALLING\"//断电;\n",
      "public static final String SN_IGNITION = \"SN_IGNITION\"//上电;\n",
      "public static final String SN_SAFEON = \"SN_SAFEON\"//车门上锁;\n",
      "public static final String SN_SAFEOFF = \"SN_SAFEOFF\"//车门解锁;\n"
     ]
    },
    {
     "ename": "IndexError",
     "evalue": "list index out of range",
     "output_type": "error",
     "traceback": [
      "\u001b[0;31m---------------------------------------------------------------------------\u001b[0m",
      "\u001b[0;31mIndexError\u001b[0m                                Traceback (most recent call last)",
      "\u001b[0;32m<ipython-input-112-cff77a9580e4>\u001b[0m in \u001b[0;36m<module>\u001b[0;34m\u001b[0m\n\u001b[1;32m      1\u001b[0m \u001b[0;32mfor\u001b[0m \u001b[0mi\u001b[0m \u001b[0;32min\u001b[0m \u001b[0ma\u001b[0m\u001b[0;34m.\u001b[0m\u001b[0msplit\u001b[0m\u001b[0;34m(\u001b[0m\u001b[0;34m\";\"\u001b[0m\u001b[0;34m)\u001b[0m\u001b[0;34m:\u001b[0m\u001b[0;34m\u001b[0m\u001b[0;34m\u001b[0m\u001b[0m\n\u001b[0;32m----> 2\u001b[0;31m     \u001b[0mvar\u001b[0m \u001b[0;34m=\u001b[0m \u001b[0mi\u001b[0m\u001b[0;34m.\u001b[0m\u001b[0msplit\u001b[0m\u001b[0;34m(\u001b[0m\u001b[0;34m\"\\\"\"\u001b[0m\u001b[0;34m)\u001b[0m\u001b[0;34m[\u001b[0m\u001b[0;36m1\u001b[0m\u001b[0;34m]\u001b[0m\u001b[0;34m\u001b[0m\u001b[0;34m\u001b[0m\u001b[0m\n\u001b[0m\u001b[1;32m      3\u001b[0m     \u001b[0mprint\u001b[0m\u001b[0;34m(\u001b[0m\u001b[0mtemplate\u001b[0m\u001b[0;34m.\u001b[0m\u001b[0mformat\u001b[0m\u001b[0;34m(\u001b[0m\u001b[0mvar\u001b[0m\u001b[0;34m,\u001b[0m \u001b[0mi\u001b[0m\u001b[0;34m)\u001b[0m\u001b[0;34m)\u001b[0m\u001b[0;34m\u001b[0m\u001b[0;34m\u001b[0m\u001b[0m\n",
      "\u001b[0;31mIndexError\u001b[0m: list index out of range"
     ]
    }
   ],
   "source": [
    "for i in a.split(\";\"):\n",
    "    var = i.split(\"\\\"\")[1]\n",
    "    print(template.format(var, i))"
   ]
  },
  {
   "cell_type": "code",
   "execution_count": null,
   "metadata": {},
   "outputs": [],
   "source": []
  }
 ],
 "metadata": {
  "kernelspec": {
   "display_name": "Python 3",
   "language": "python",
   "name": "python3"
  },
  "language_info": {
   "codemirror_mode": {
    "name": "ipython",
    "version": 3
   },
   "file_extension": ".py",
   "mimetype": "text/x-python",
   "name": "python",
   "nbconvert_exporter": "python",
   "pygments_lexer": "ipython3",
   "version": "3.7.4"
  }
 },
 "nbformat": 4,
 "nbformat_minor": 2
}
